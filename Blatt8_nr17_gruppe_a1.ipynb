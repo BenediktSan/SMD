{
 "cells": [
  {
   "cell_type": "code",
   "execution_count": 2,
   "id": "5e4fda0b",
   "metadata": {},
   "outputs": [],
   "source": [
    "# Libraries we use for data analysis and visualisation\n",
    "import matplotlib.pyplot as plt\n",
    "import seaborn as sns\n",
    "import pandas as pd\n",
    "import numpy as np\n",
    "\n",
    "# libraries used for the notebook\n",
    "from IPython.display import SVG\n",
    "from graphviz import Source\n",
    "from IPython.display import display                               \n",
    "from ipywidgets import interactive\n",
    "\n",
    "from sklearn.tree import DecisionTreeClassifier\n",
    "from sklearn.datasets import make_moons\n",
    "\n",
    "from ml import plots\n"
   ]
  },
  {
   "cell_type": "markdown",
   "id": "a73c4e4a",
   "metadata": {},
   "source": [
    "# Aufgabe 17"
   ]
  },
  {
   "cell_type": "markdown",
   "id": "a8345719",
   "metadata": {},
   "source": [
    "## Messwerte"
   ]
  },
  {
   "cell_type": "code",
   "execution_count": 3,
   "id": "11d40fcc",
   "metadata": {},
   "outputs": [],
   "source": [
    "fuszi_temp=np.array([29.4,26.7,28.3,21.1,20,18.3,17.8,22.2,20.6,23.9,23.9,22.2,27.2,21.7])\n",
    "fuszi_wet=np.array([2,2,1,0,0,0,1,2,2,0,2,1,1,0])\n",
    "fuszi_feucht=np.array([85,90,78,96,80,70,65,95,70,80,70,90,75,80])\n",
    "fuszi_wind=np.array([0,1,0,0,0,1,1,0,0,0,1,1,0,1])\n",
    "fuszi_bool=np.array([0,0,1,1,1,0,1,0,1,1,1,1,1,0])\n"
   ]
  },
  {
   "cell_type": "markdown",
   "id": "ba67634f",
   "metadata": {},
   "source": [
    "## c)"
   ]
  },
  {
   "cell_type": "markdown",
   "id": "61b1104b",
   "metadata": {},
   "source": [
    "Entropiefunktion:"
   ]
  },
  {
   "cell_type": "code",
   "execution_count": 4,
   "id": "9726bf06",
   "metadata": {},
   "outputs": [],
   "source": [
    "def entropie(p):     #param ist schnittparameter. param=1 für bool\n",
    "    \n",
    "    l=len(p)\n",
    "    a=len(p[p==1])\n",
    "    b=l-a\n",
    "    \n",
    "    if a!=l and a!=0:\n",
    "        E= -(a/l) * np.log2(a/l) - b/l *np.log2(b/l)\n",
    "    else:\n",
    "        E=0\n",
    "        \n",
    "    return E"
   ]
  },
  {
   "cell_type": "markdown",
   "id": "463f57d8",
   "metadata": {},
   "source": [
    "Informationsgewinnfunktion:"
   ]
  },
  {
   "cell_type": "code",
   "execution_count": 71,
   "id": "d6b56ed9",
   "metadata": {},
   "outputs": [],
   "source": [
    "def CE(param,Y,X):            #param ist schnittparameter. param=1 für bool\n",
    "    \n",
    "    l=len(X)\n",
    "    a=len(X[X>=param])\n",
    "    b=l-a\n",
    "\n",
    "    \n",
    "    fall_trueX=np.zeros(2)      #erste Stelle ist für X==true\n",
    "    fall_falseX=np.zeros(2)\n",
    "    \n",
    "    for i in range(0,l):\n",
    "        if Y[i]==1:\n",
    "            if X[i]>=param:\n",
    "                fall_trueX[0]+=1\n",
    "            else:\n",
    "                fall_trueX[1]+=1\n",
    "        \n",
    "        else:\n",
    "            if X[i]>=param:\n",
    "                fall_falseX[0]+=1\n",
    "            else:\n",
    "                fall_falseX[1]+=1\n",
    "    \n",
    "\n",
    "    \n",
    "    sum_Ytrue= fall_trueX[0]+fall_falseX[0]\n",
    "    sum_Yfalse= fall_trueX[1]+fall_falseX[1]\n",
    "        \n",
    "        \n",
    "##schlechte und müde Ausnahmebehandlung incoming##\n",
    "\n",
    "    if sum_Ytrue==0 or sum_Yfalse==0:\n",
    "        return 0\n",
    "\n",
    "    \n",
    "    if fall_trueX[0]==0:\n",
    "        fall_trueX[0]=sum_Ytrue\n",
    "    \n",
    "    if fall_falseX[0]==0:\n",
    "        fall_falseX[0]=sum_Ytrue\n",
    "\n",
    "    \n",
    "    if fall_trueX[1]==0:\n",
    "        fall_trueX[1]=sum_Yfalse\n",
    "    \n",
    "    if fall_falseX[1]==0:\n",
    "        fall_falseX[1]=sum_Yfalse\n",
    "        \n",
    "    \n",
    "    \n",
    "    E_trueX = a/l *( -fall_trueX[0]/sum_Ytrue * np.log2(fall_trueX[0]/sum_Ytrue) - fall_falseX[0]/sum_Ytrue * np.log2(fall_falseX[0]/sum_Ytrue) )\n",
    "    E_falseX = b/l *( -fall_trueX[1]/sum_Yfalse * np.log2(fall_trueX[1]/sum_Yfalse) - fall_falseX[1]/sum_Yfalse * np.log2(fall_falseX[1]/sum_Yfalse) )    \n",
    "    \n",
    "    return E_trueX + E_falseX\n",
    "        \n",
    "    \n",
    "    \n",
    "    "
   ]
  },
  {
   "cell_type": "code",
   "execution_count": 72,
   "id": "3c99b757",
   "metadata": {},
   "outputs": [],
   "source": [
    "def IG(param,Y,X):\n",
    "    \n",
    "    return (entropie(Y))- CE(param,Y,X)"
   ]
  },
  {
   "cell_type": "code",
   "execution_count": 73,
   "id": "1d722220",
   "metadata": {},
   "outputs": [],
   "source": [
    "def IG_print(param,Y,X):\n",
    "    printer=np.zeros(len(param))\n",
    "    \n",
    "    for i in range(0,len(param)):\n",
    "        printer[i]=IG(param[i],Y,X)\n",
    "\n",
    "    return printer\n",
    "        "
   ]
  },
  {
   "cell_type": "markdown",
   "id": "a7cb051b",
   "metadata": {},
   "source": [
    "Temperatur:"
   ]
  },
  {
   "cell_type": "code",
   "execution_count": 89,
   "id": "597d09b4",
   "metadata": {},
   "outputs": [
    {
     "data": {
      "image/png": "[encoded data removed]",
      "text/plain": [
       "<Figure size 432x288 with 1 Axes>"
      ]
     },
     "metadata": {
      "needs_background": "light"
     },
     "output_type": "display_data"
    }
   ],
   "source": [
    "x=np.linspace(18,28.5,20)\n",
    "\n",
    "plt.figure()\n",
    "plt.plot(x,IG_print(x,fuszi_bool,fuszi_temp),\"x\",label=\"Informationsgewinn\")\n",
    "plt.xlabel(\"Schnitttemperatur\")\n",
    "plt.ylabel(\"Informationsgewinn\")\n",
    "plt.grid()"
   ]
  },
  {
   "cell_type": "markdown",
   "id": "9b45305c",
   "metadata": {},
   "source": [
    "Wettervorhersage:"
   ]
  },
  {
   "cell_type": "code",
   "execution_count": 85,
   "id": "e1bd2e8a",
   "metadata": {},
   "outputs": [
    {
     "data": {
      "image/png": "[encoded data removed]",
      "text/plain": [
       "<Figure size 432x288 with 1 Axes>"
      ]
     },
     "metadata": {
      "needs_background": "light"
     },
     "output_type": "display_data"
    }
   ],
   "source": [
    "x=np.linspace(0,2,3)\n",
    "\n",
    "plt.figure()\n",
    "plt.plot(x,IG_print(x,fuszi_bool,fuszi_wet),\"x\",label=\"Informationsgewinn\")\n",
    "plt.xlabel(\"Schnittvorhersagewert\")\n",
    "plt.ylabel(\"Informationsgewinn\")\n",
    "plt.grid()"
   ]
  },
  {
   "cell_type": "markdown",
   "id": "0053fe8a",
   "metadata": {},
   "source": [
    "Luftfeuchtigkeit:"
   ]
  },
  {
   "cell_type": "code",
   "execution_count": 84,
   "id": "1b8dbc31",
   "metadata": {},
   "outputs": [
    {
     "data": {
      "image/png": "[encoded data removed]",
      "text/plain": [
       "<Figure size 432x288 with 1 Axes>"
      ]
     },
     "metadata": {
      "needs_background": "light"
     },
     "output_type": "display_data"
    }
   ],
   "source": [
    "\n",
    "x=np.linspace(66,90,20)\n",
    "\n",
    "plt.figure()\n",
    "plt.plot(x,IG_print(x,fuszi_bool,fuszi_feucht),\"x\",label=\"Informationsgewinn\")\n",
    "plt.xlabel(\"Schnittfeuchtigkeit\")\n",
    "plt.ylabel(\"Informationsgewinn\")\n",
    "plt.grid()"
   ]
  },
  {
   "cell_type": "markdown",
   "id": "dc617360",
   "metadata": {},
   "source": [
    "## d)"
   ]
  },
  {
   "cell_type": "markdown",
   "id": "2e489235",
   "metadata": {},
   "source": [
    "Bei den min oder max der Arrays ergeben sich bei uns zu große Werte. Vermutlich haben sich abgesehen davon auch noch ein paar Fehler eingeschlichen.  \n",
    "Ich hoffe mal das war alles nicht zu schlimm zu korrigieren.  \n",
    "  \n",
    "Abgesehen davon; Für die Temperatur und die Luftfeuchtigkeit ergeben sich die größten Informationsgewinne, wenn man die Schnitte geschickt setzt."
   ]
  }
 ],
 "metadata": {
  "kernelspec": {
   "display_name": "Python 3",
   "language": "python",
   "name": "python3"
  },
  "language_info": {
   "codemirror_mode": {
    "name": "ipython",
    "version": 3
   },
   "file_extension": ".py",
   "mimetype": "text/x-python",
   "name": "python",
   "nbconvert_exporter": "python",
   "pygments_lexer": "ipython3",
   "version": "3.8.2"
  }
 },
 "nbformat": 4,
 "nbformat_minor": 5
}
