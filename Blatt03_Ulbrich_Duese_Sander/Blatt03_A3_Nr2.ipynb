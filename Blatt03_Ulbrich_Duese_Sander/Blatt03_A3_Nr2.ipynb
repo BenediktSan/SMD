{
 "cells": [
  {
   "cell_type": "markdown",
   "id": "f7f0ca65",
   "metadata": {},
   "source": [
    "# Aufgabe 6"
   ]
  },
  {
   "cell_type": "markdown",
   "id": "451752a2",
   "metadata": {},
   "source": [
    "Die invertierten Funktionen werden dabei alle so auch im  gitlab-Repo implementiert."
   ]
  },
  {
   "cell_type": "markdown",
   "id": "b5c9d266",
   "metadata": {},
   "source": [
    "### a) Exponentialverteilung"
   ]
  },
  {
   "cell_type": "markdown",
   "id": "8722bca4",
   "metadata": {},
   "source": [
    "Normierung:\n",
    "\\begin{align*}\n",
    "\\int_{0}^{\\infty} N e^{\\frac{-x}{\\tau}}\\text{d}x &\\overset{!}{=} 1\\\\\n",
    "&=\\left[ -\\tau N e^{\\frac{-x}{\\tau}} \\right]_0^\\infty\\\\\n",
    "&=\\tau\\\\\n",
    "\\\\\n",
    "\\implies N&=\\tau^{-1}\n",
    "\\end{align*}  \n",
    "\n"
   ]
  },
  {
   "cell_type": "markdown",
   "id": "9667cf4d",
   "metadata": {},
   "source": [
    "Integration:  \n",
    "\\begin{equation*}\n",
    "\\int_{0}^{x'} \\tau^{-1} e^{\\frac{-x'}{\\tau}}\\text{d}x' =\\left[ - e^{\\frac{-x'}{\\tau}} \\right]_0^{x'}=- e^{\\frac{-x}{\\tau}}+1\n",
    "\\end{equation*}\n",
    "\n"
   ]
  },
  {
   "cell_type": "markdown",
   "id": "8d8eb99f",
   "metadata": {},
   "source": [
    "Invertierung:  \n",
    "\\begin{equation*}\n",
    "\\implies x(u)= - \\tau \\ln(1-u) \n",
    "\\end{equation*}"
   ]
  },
  {
   "cell_type": "markdown",
   "id": "7fb6b864",
   "metadata": {},
   "source": [
    "### Potenzverteilung"
   ]
  },
  {
   "cell_type": "markdown",
   "id": "23cf5223",
   "metadata": {},
   "source": [
    "Normierung:\n",
    "\\begin{align*}\n",
    "\\int_{x_{min}}^{x_{max}} N x^{-n}\\text{d}x &\\overset{!}{=} 1\\\\\n",
    "&=\\left[ \\frac{N}{1-n} \\cdot x^{-n+1} \\right]_{x_{min}}^{x_{max}}\\\\\n",
    "&=N \\frac{x_{max}^{1-n}-x_{min}^{1-n}}{1-n}\\\\\n",
    "\\\\\n",
    "\\implies N&=\\frac{1-n}{x_{max}^{1-n}-x_{min}^{1-n}}\n",
    "\\end{align*}  \n"
   ]
  },
  {
   "cell_type": "markdown",
   "id": "f47f6c5c",
   "metadata": {},
   "source": [
    "Integration:  \n",
    "\\begin{equation*}\n",
    "\\int_{x_{min}}^{x'} N x'^{-n}\\text{d}x'=\\frac{1}{(x_{max}^{1-n}-x_{min}^{1-n})}(x^{-n+1}-x_{min}^{-n+1}) \n",
    "\\end{equation*}"
   ]
  },
  {
   "cell_type": "markdown",
   "id": "097b5d00",
   "metadata": {},
   "source": [
    "Invertierung:  \n",
    "\\begin{equation*}\n",
    "\\implies x(u)= \\left(u \\cdot (x_{max}^{1-n}-x_{min}^{1-n})+x_{min}^{-n+1} \\right)^{\\frac{1}{1-n}} \n",
    "\\end{equation*}"
   ]
  },
  {
   "cell_type": "markdown",
   "id": "c8aed59f",
   "metadata": {},
   "source": [
    "### Cauchy-Verteilung"
   ]
  },
  {
   "cell_type": "markdown",
   "id": "82d557ad",
   "metadata": {},
   "source": [
    "Integration:  \n",
    "\\begin{equation*}\n",
    "\\int_{-\\infty}^{x} \\frac{1}{\\pi(1+x'^2)} \\text{d}x'=\\frac{1}{\\pi}(\\arctan x +\\frac{\\pi}{2})\n",
    "\\end{equation*}"
   ]
  },
  {
   "cell_type": "markdown",
   "id": "a630e194",
   "metadata": {},
   "source": [
    "Invertierung:  \n",
    "\\begin{equation*}\n",
    "\\implies x(u)= \\tan(\\pi u -\\frac{\\pi}{2})\n",
    "\\end{equation*}"
   ]
  },
  {
   "cell_type": "code",
   "execution_count": null,
   "id": "86ca7ad4",
   "metadata": {},
   "outputs": [],
   "source": []
  }
 ],
 "metadata": {
  "kernelspec": {
   "display_name": "Python 3",
   "language": "python",
   "name": "python3"
  },
  "language_info": {
   "codemirror_mode": {
    "name": "ipython",
    "version": 3
   },
   "file_extension": ".py",
   "mimetype": "text/x-python",
   "name": "python",
   "nbconvert_exporter": "python",
   "pygments_lexer": "ipython3",
   "version": "3.8.8"
  }
 },
 "nbformat": 4,
 "nbformat_minor": 5
}
