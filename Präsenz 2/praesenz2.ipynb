{
 "cells": [
  {
   "cell_type": "code",
   "execution_count": 56,
   "metadata": {},
   "outputs": [
    {
     "name": "stdout",
     "output_type": "stream",
     "text": [
      "(4.6537091409498235, -0.02150921141758372, 1.1016142708886671)\n",
      "[ 4. 19. 17. 14. 10. 11.  5.  8.  3.  4.  2.  0.  0.  0.  3.]\n",
      "[ 0.19992754  1.30132573  2.40272391  3.50412209  4.60552027  5.70691846\n",
      "  6.80831664  7.90971482  9.011113   10.11251118 11.21390937 12.31530755\n",
      " 13.41670573 14.51810391 15.61950209 16.72090028]\n"
     ]
    },
    {
     "data": {
      "text/plain": [
       "<matplotlib.legend.Legend at 0x7fd232270820>"
      ]
     },
     "execution_count": 56,
     "metadata": {},
     "output_type": "execute_result"
    },
    {
     "data": {
      "image/png": "[encoded data removed]",
      "text/plain": [
       "<Figure size 432x288 with 2 Axes>"
      ]
     },
     "metadata": {
      "needs_background": "light"
     },
     "output_type": "display_data"
    },
    {
     "data": {
      "text/plain": [
       "<Figure size 432x288 with 0 Axes>"
      ]
     },
     "metadata": {},
     "output_type": "display_data"
    }
   ],
   "source": [
    "import numpy as np\n",
    "import matplotlib.pyplot as plt\n",
    "import os\n",
    "from scipy.stats import norm\n",
    "import scipy as scipy\n",
    "\n",
    "###werte erstellen\n",
    "n=15          #binsize\n",
    "np.random.seed(41)\n",
    "data=np.random.chisquare(5,size= 100)\n",
    "\n",
    "\n",
    "\n",
    "###Fit erstellen\n",
    "mean_fit= scipy.stats.chi2.fit(data)\n",
    "print(mean_fit)\n",
    "\n",
    "\n",
    "\n",
    "###plots\n",
    "fig,(ax1,ax2)=plt.subplots(2,1)\n",
    "\n",
    "\n",
    "\n",
    "#mid=plot1[1][:n]+(plot1[1][1]-plot1[1][0])/2\n",
    "\n",
    "#x = np.linspace(plot1[1][0],plot1[1][-1],100)\n",
    "\n",
    "plt.figure()\n",
    "plt.tight_layout()\n",
    "plot1=ax1.hist(data,bins=n)\n",
    "  \n",
    "print(plot1[0])                                     #zeigen des arraytupels\n",
    "print(plot1[1])\n",
    "mid=plot1[1][:n]+(plot1[1][1]-plot1[1][0])/2        #wert zum mitteln der bars\n",
    "\n",
    "plot2=ax1.bar(mid,plot1[0],yerr=np.sqrt(plot1[0]))\n",
    "\n",
    "\n",
    "x = np.linspace(plot1[1][0],plot1[1][-1],100)\n",
    "\n",
    "plt.tight_layout()\n",
    "plot3=ax2.hist(data,bins=n,density=True)\n",
    "#plot5=ax2.bar(mid,plot3[0],yerr=np.sqrt(plot3[0]))  #sqrt(n) fehler hier unsinnig\n",
    "plot4=ax2.plot(x, scipy.stats.chi2.pdf(x, 5),label=\"Theorie-Funktion\")\n",
    "plot4=ax2.plot(x, scipy.stats.chi2.pdf(x, *mean_fit),label=\"Fit-Funktion\")\n",
    "ax2.legend(loc='best')\n",
    "\n"
   ]
  },
  {
   "cell_type": "code",
   "execution_count": 49,
   "metadata": {},
   "outputs": [
    {
     "name": "stdout",
     "output_type": "stream",
     "text": [
      "n:  1 \t\tp:  0.0\n",
      "n:  2 \t\tp:  0.002739726027397249\n",
      "n:  3 \t\tp:  0.008204165884781345\n",
      "n:  4 \t\tp:  0.016355912466550215\n",
      "n:  5 \t\tp:  0.02713557369979347\n",
      "n:  6 \t\tp:  0.040462483649111425\n",
      "n:  7 \t\tp:  0.056235703095975365\n",
      "n:  8 \t\tp:  0.07433529235166902\n",
      "n:  9 \t\tp:  0.09462383388916673\n",
      "n:  10 \t\tp:  0.11694817771107768\n",
      "n:  11 \t\tp:  0.14114137832173312\n",
      "n:  12 \t\tp:  0.1670247888380645\n",
      "n:  13 \t\tp:  0.19441027523242949\n",
      "n:  14 \t\tp:  0.2231025120049731\n",
      "n:  15 \t\tp:  0.25290131976368646\n",
      "n:  16 \t\tp:  0.2836040052528501\n",
      "n:  17 \t\tp:  0.3150076652965609\n",
      "n:  18 \t\tp:  0.3469114178717896\n",
      "n:  19 \t\tp:  0.37911852603153695\n",
      "n:  20 \t\tp:  0.41143838358058027\n",
      "n:  21 \t\tp:  0.443688335165206\n",
      "n:  22 \t\tp:  0.4756953076625503\n",
      "n:  23 \t\tp:  0.5072972343239857\n",
      "n:  24 \t\tp:  0.538344257914529\n",
      "n:  25 \t\tp:  0.568699703969464\n",
      "n:  26 \t\tp:  0.598240820135939\n",
      "n:  27 \t\tp:  0.6268592822632421\n",
      "n:  28 \t\tp:  0.6544614723423995\n",
      "n:  29 \t\tp:  0.6809685374777771\n",
      "n:  30 \t\tp:  0.7063162427192688\n",
      "n:  31 \t\tp:  0.7304546337286439\n",
      "n:  32 \t\tp:  0.7533475278503208\n",
      "n:  33 \t\tp:  0.7749718541757721\n",
      "n:  34 \t\tp:  0.7953168646201543\n",
      "n:  35 \t\tp:  0.8143832388747153\n",
      "n:  36 \t\tp:  0.8321821063798795\n",
      "n:  37 \t\tp:  0.8487340082163846\n",
      "n:  38 \t\tp:  0.864067821082121\n",
      "n:  39 \t\tp:  0.878219664366722\n",
      "n:  40 \t\tp:  0.891231809817949\n",
      "n:  41 \t\tp:  0.9031516114817354\n",
      "n:  42 \t\tp:  0.9140304715618692\n",
      "n:  43 \t\tp:  0.9239228556561199\n",
      "n:  44 \t\tp:  0.9328853685514263\n",
      "n:  45 \t\tp:  0.940975899465775\n",
      "n:  46 \t\tp:  0.9482528433672548\n",
      "n:  47 \t\tp:  0.9547744028332994\n",
      "n:  48 \t\tp:  0.9605979728794225\n",
      "n:  49 \t\tp:  0.9657796093226765\n",
      "n:  50 \t\tp:  0.9703735795779884\n",
      "n:  51 \t\tp:  0.9744319933344283\n",
      "n:  52 \t\tp:  0.9780045093342753\n",
      "n:  53 \t\tp:  0.9811381134839128\n",
      "n:  54 \t\tp:  0.9838769627588515\n",
      "n:  55 \t\tp:  0.9862622888164461\n",
      "n:  56 \t\tp:  0.9883323548852008\n",
      "n:  57 \t\tp:  0.9901224593411699\n",
      "n:  58 \t\tp:  0.9916649793892612\n",
      "n:  59 \t\tp:  0.992989448417817\n",
      "n:  60 \t\tp:  0.994122660865348\n",
      "n:  61 \t\tp:  0.9950887988052908\n",
      "n:  62 \t\tp:  0.9959095748953655\n",
      "n:  63 \t\tp:  0.9966043868309472\n",
      "n:  64 \t\tp:  0.9971904789669755\n",
      "n:  65 \t\tp:  0.9976831073124921\n",
      "n:  66 \t\tp:  0.9980957046404045\n",
      "n:  67 \t\tp:  0.9984400429793998\n",
      "n:  68 \t\tp:  0.9987263912544141\n",
      "n:  69 \t\tp:  0.9989636663083863\n",
      "n:  70 \t\tp:  0.9991595759651571\n",
      "n:  71 \t\tp:  0.9993207531773187\n",
      "n:  72 \t\tp:  0.9994528806414568\n",
      "n:  73 \t\tp:  0.9995608055560187\n",
      "n:  74 \t\tp:  0.9996486444448149\n",
      "n:  75 \t\tp:  0.9997198781738114\n",
      "n:  76 \t\tp:  0.9997774374531652\n",
      "n:  77 \t\tp:  0.999823779243739\n",
      "n:  78 \t\tp:  0.9998609545813611\n",
      "n:  79 \t\tp:  0.9998906683968511\n",
      "n:  80 \t\tp:  0.9999143319493135\n",
      "n:  81 \t\tp:  0.999933108508368\n",
      "n:  82 \t\tp:  0.9999479529215796\n",
      "n:  83 \t\tp:  0.9999596456898823\n",
      "n:  84 \t\tp:  0.9999688221494433\n",
      "n:  85 \t\tp:  0.9999759973260097\n",
      "n:  86 \t\tp:  0.9999815869898157\n",
      "n:  87 \t\tp:  0.9999859253976947\n",
      "n:  88 \t\tp:  0.9999892801659155\n",
      "n:  89 \t\tp:  0.9999918646738591\n",
      "n:  90 \t\tp:  0.9999938483561236\n",
      "n:  91 \t\tp:  0.9999953651998191\n",
      "n:  92 \t\tp:  0.9999965207253437\n",
      "n:  93 \t\tp:  0.9999973976932023\n",
      "n:  94 \t\tp:  0.9999980607467152\n",
      "n:  95 \t\tp:  0.9999985601708488\n",
      "n:  96 \t\tp:  0.9999989349209019\n",
      "n:  97 \t\tp:  0.9999992150512947\n",
      "n:  98 \t\tp:  0.9999994236541013\n",
      "n:  99 \t\tp:  0.9999995783990275\n",
      "n:  100 \t\tp:  0.9999996927510721\n",
      "n:  101 \t\tp:  0.9999997769288606\n"
     ]
    },
    {
     "data": {
      "text/plain": [
       "0.9999997769288606"
      ]
     },
     "execution_count": 49,
     "metadata": {},
     "output_type": "execute_result"
    }
   ],
   "source": [
    "import numpy as np\n",
    "import matplotlib.pyplot as plt\n",
    "\n",
    "###summe von 0 bis n (n+1 = Anzahl menschen)\n",
    "\n",
    "x=np.arange(100)\n",
    "for i in range(1,101):\n",
    "    x[i-1]=int(i)\n",
    "\n",
    "#print(x)\n",
    "\n",
    "\n",
    "\n",
    "\n",
    "def pgegen(n):\n",
    "    a=1\n",
    "    b=n+1\n",
    "    for i in range(b):\n",
    "        a=a*((365-i)/365)\n",
    "        print(\"n: \",i+1,\"\\t\\tp: \",1-a)\n",
    "    return a\n",
    "\n",
    "def p(n):\n",
    "    return 1-pgegen(n)\n",
    "p(100)\n",
    "\n",
    "#plt.figure()\n",
    "#plt.plot(x,p(x))\n",
    "#plt.show()\n"
   ]
  },
  {
   "cell_type": "code",
   "execution_count": null,
   "metadata": {},
   "outputs": [],
   "source": []
  },
  {
   "cell_type": "code",
   "execution_count": null,
   "metadata": {},
   "outputs": [],
   "source": []
  }
 ],
 "metadata": {
  "kernelspec": {
   "display_name": "Python 3",
   "language": "python",
   "name": "python3"
  },
  "language_info": {
   "codemirror_mode": {
    "name": "ipython",
    "version": 3
   },
   "file_extension": ".py",
   "mimetype": "text/x-python",
   "name": "python",
   "nbconvert_exporter": "python",
   "pygments_lexer": "ipython3",
   "version": "3.8.8"
  }
 },
 "nbformat": 4,
 "nbformat_minor": 4
}
