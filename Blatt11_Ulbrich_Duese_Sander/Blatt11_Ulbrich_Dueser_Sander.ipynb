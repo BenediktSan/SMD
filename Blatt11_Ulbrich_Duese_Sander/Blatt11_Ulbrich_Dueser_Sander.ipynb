{
 "cells": [
  {
   "cell_type": "markdown",
   "id": "6c44380c",
   "metadata": {},
   "source": [
    "# Blatt 11\n",
    "## Aufgabe 22 Deep Learning Kurzfragen"
   ]
  },
  {
   "cell_type": "markdown",
   "id": "0a33608f",
   "metadata": {},
   "source": [
    "### (a) Was beschreibt die Lossfunktion und wofür wird sie benötigt?"
   ]
  },
  {
   "cell_type": "markdown",
   "id": "2cc26409",
   "metadata": {},
   "source": [
    "Die Lossfunktion beschreibt die Qualität einer Klassifikation, sie würd Gebächlich mittels der Kreuzentropie berechnet:  \n",
    "$ H(p,q) = - \\sum_k p(k) \\text{log}(q(k))$ \n",
    "Mit dem Gradienten der Lossfunktion kann eine Klassifizierung verbessert werden."
   ]
  },
  {
   "cell_type": "markdown",
   "id": "aa1e5751",
   "metadata": {},
   "source": [
    "% Bullshit:\n",
    "%Meistens mittels einer Softmax Funktion:  \n",
    "%$q_i(k) = \\frac{\\text{exp}(f_{k,i})}{\\sum_j \\text{exp}(f_{j,i})}$\n",
    "    "
   ]
  },
  {
   "cell_type": "markdown",
   "id": "7bbb9ee6",
   "metadata": {},
   "source": [
    "### (b) Wie kann die Lossfunktion minimiert werden?"
   ]
  },
  {
   "cell_type": "markdown",
   "id": "b9a7ced4",
   "metadata": {},
   "source": [
    "Mittels einer Analytischen oder Numerischen Gradientenberchnung kann bestimmt werden welche Attribute verbessert werden müssen um die Lossfunktion zu optimieren.\n",
    "Bei großen Datensätzen wird dies nur auf kleinen \"Batches\" der Daten vorgenommen."
   ]
  },
  {
   "cell_type": "markdown",
   "id": "8019e732",
   "metadata": {},
   "source": [
    "### (c) Welche Funktionen haben die Aktiviertungsfunktionen bzw. welches Problem wird durch diese gelöst?  Nennen sie drei gängige Aktivierungsfunktionen."
   ]
  },
  {
   "cell_type": "markdown",
   "id": "cb0c653f",
   "metadata": {},
   "source": [
    "Aktivierungsfunktionen beschreiben die Übergänge zwischen unterschiedlichen Schichten bzw. Neuronen in Neuralen Netzwerken. Sie dient dazu die Inputs des Systems auszuwerten\n",
    "-maybe stagnierung um Mittelwerte vorbeugen, dass System ist empfindlicher für kleine änderungen \"Instabil\"\n",
    "-schneller zum ziel weil schlechte Werte schneller beseitigt werden können und gute Ergebnisse bessert wahrgenommen werden\n",
    "Lineare Aktivierungsfunktionen unterliegen einer starken Beschränkung, da eine Komposition linearer Funktionen durch arithmetische Umformungen durch eine einzige lineare Funktion dargestellt werden kann.\n",
    "\n",
    "Sigmoid\n",
    "Tangens Hyperbolicus\n",
    "Leaky ReLU(Rectified Linear Unit)\n"
   ]
  },
  {
   "cell_type": "markdown",
   "id": "9a4f1a1f",
   "metadata": {},
   "source": [
    "### (d) Was ist ein Neuron?"
   ]
  },
  {
   "cell_type": "markdown",
   "id": "5892c61e",
   "metadata": {},
   "source": [
    "Die einzelnen Layer des Neuralen Netzwerks setzten sich aus den Neuronen zusammen an denen die Aktivierungsfunktionen zusammenlaufen. Die Ergebnisse werden summiert und ergeben eine Gewichtung für das nächste Layer der Aktivierungsfunktionen bzw. den Output. Da zwischen Jedem Neuron zwischen zwei Layern eine Aktivierungsfunktion liegt und diese durch einen Parameter beschrieben wird, ist die Anzahl der Neuronen auch ein Maß für die Anzahl der freien Parameter die in einem Neuronalem Netzwerk berechnet/optimiert werden.\n"
   ]
  },
  {
   "cell_type": "markdown",
   "id": "dbd35a7d",
   "metadata": {},
   "source": [
    "### (e) Nennen Sie drei Anwendungsbeispiele für Neuronale Netze und beschreiben Sie kurz warum sie für diese Beispiele besonders geeignet sind."
   ]
  },
  {
   "cell_type": "markdown",
   "id": "5ebabbf7",
   "metadata": {},
   "source": [
    "Neuronale Netze eignet sich tendenziell gut um große Mengen an Daten auszuwerten und Beziehungen zu entdecken die für den Meschen nicht offensichtlich sind, so können sie zum Beispiel unterscheiden on ein Programm oder Mensch ein Computer/System bedient. \n",
    "\n",
    "Die Fähigkeit Beziehungen in Daten zu erkennen ermöglicht zum Beispiel auch Bilder auszuwerten bzw. in Gruppen einzuteilen.\n",
    "\n",
    "Im Bereich der Selbstfahrenden Autos werden Neuronale Netzte genutzt da sie relativ gut und schnell zwischen unterschiedlichen Objekten wie der Straße, Menschen, anderen Autos oder Schildern unterscheiden können."
   ]
  },
  {
   "cell_type": "markdown",
   "id": "fbe3f6d3",
   "metadata": {},
   "source": [
    "## Aufgabe 23 Lineare Klassifikation mit Softmax"
   ]
  },
  {
   "cell_type": "code",
   "execution_count": null,
   "id": "72a5ecce",
   "metadata": {},
   "outputs": [],
   "source": []
  }
 ],
 "metadata": {
  "kernelspec": {
   "display_name": "Python 3",
   "language": "python",
   "name": "python3"
  },
  "language_info": {
   "codemirror_mode": {
    "name": "ipython",
    "version": 3
   },
   "file_extension": ".py",
   "mimetype": "text/x-python",
   "name": "python",
   "nbconvert_exporter": "python",
   "pygments_lexer": "ipython3",
   "version": "3.8.8"
  }
 },
 "nbformat": 4,
 "nbformat_minor": 5
}
