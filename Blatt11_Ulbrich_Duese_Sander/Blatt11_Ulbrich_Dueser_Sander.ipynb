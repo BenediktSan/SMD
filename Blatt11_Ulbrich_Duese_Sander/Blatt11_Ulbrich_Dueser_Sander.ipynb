{
 "cells": [
  {
   "cell_type": "markdown",
   "metadata": {},
   "source": [
    "# Blatt 11\n",
    "## Aufgabe 22 Deep Learning Kurzfragen"
   ]
  },
  {
   "cell_type": "markdown",
   "metadata": {},
   "source": [
    "### (a) Was beschreibt die Lossfunktion und wofür wird sie benötigt?"
   ]
  },
  {
   "cell_type": "markdown",
   "metadata": {},
   "source": [
    "Die Lossfunktion beschreibt die Qualität einer Klassifikation, sie wird Gebäuchlich mittels der Kreuzentropie berechnet:  \n",
    "$ H(p,q) = - \\sum_k p(k) \\text{log}(q(k))$  \n",
    "und der Softmax Funktion\n",
    "$q_i(k) = \\frac{\\text{exp}(f_{k,i})}{\\sum_j \\text{exp}(f_{j,i})}$  \n",
    "Mit dem Gradienten der Lossfunktion kann eine Klassifizierung verbessert werden."
   ]
  },
  {
   "cell_type": "markdown",
   "metadata": {},
   "source": [
    "### (b) Wie kann die Lossfunktion minimiert werden?"
   ]
  },
  {
   "cell_type": "markdown",
   "metadata": {},
   "source": [
    "Mittels einer Analytischen oder Numerischen Gradientenberchnung kann bestimmt werden welche Attribute verbessert werden müssen um die Lossfunktion zu optimieren.\n",
    "Bei großen Datensätzen wird dies nur auf kleinen \"Batches\" der Daten vorgenommen."
   ]
  },
  {
   "cell_type": "markdown",
   "metadata": {},
   "source": [
    "### (c) Welche Funktionen haben die Aktiviertungsfunktionen bzw. welches Problem wird durch diese gelöst?  Nennen sie drei gängige Aktivierungsfunktionen."
   ]
  },
  {
   "cell_type": "markdown",
   "metadata": {},
   "source": [
    "Aktivierungsfunktionen beschreiben die Übergänge zwischen unterschiedlichen Schichten bzw. Neuronen in Neuralen Netzwerken. Sie dient dazu die Inputs des Systems auszuwerten.\n",
    "ÄStagnierung um einen Mittelwerte wird vorgebeugt denn, dass System ist insgesamt empfindlicher für kleine Änderungen, es inst \"Instabil\".  \n",
    "Das Ziel wird schneller erreicht, da schlechte ERgebnisse zum Beispiel durch Rauschen schneller beseitigt werden, und gute Ergebnisse fallen mehr auf.  \n",
    "Lineare Aktivierungsfunktionen unterliegen einer starken Beschränkung, da eine Komposition linearer Funktionen durch arithmetische Umformungen durch eine einzige lineare Funktion dargestellt werden kann.\n",
    "\n",
    "Aktivierungsfunktionen:  \n",
    "Sigmoid  \n",
    "Tangens Hyperbolicus  \n",
    "Leaky ReLU(Rectified Linear Unit)  \n"
   ]
  },
  {
   "cell_type": "markdown",
   "metadata": {},
   "source": [
    "### (d) Was ist ein Neuron?"
   ]
  },
  {
   "cell_type": "markdown",
   "metadata": {},
   "source": [
    "Die einzelnen Layer des Neuralen Netzwerks setzten sich aus den Neuronen zusammen an denen die Aktivierungsfunktionen zusammenlaufen. Die Ergebnisse werden summiert und ergeben eine Gewichtung für das nächste Layer der Aktivierungsfunktionen bzw. den Output. Da zwischen jedem Neuron, zwischen zwei Layern, eine Aktivierungsfunktion liegt und diese durch einen Parameter beschrieben wird, ist die Anzahl der Neuronen auch ein Maß für die Anzahl der freien Parameter die in einem Neuronalem Netzwerk berechnet/optimiert werden.\n"
   ]
  },
  {
   "cell_type": "markdown",
   "metadata": {},
   "source": [
    "### (e) Nennen Sie drei Anwendungsbeispiele für Neuronale Netze und beschreiben Sie kurz warum sie für diese Beispiele besonders geeignet sind."
   ]
  },
  {
   "cell_type": "markdown",
   "metadata": {},
   "source": [
    "Neuronale Netze eignet sich tendenziell gut um große Mengen an Daten auszuwerten und Beziehungen zu entdecken die für den Meschen nicht offensichtlich sind, so können sie zum Beispiel unterscheiden ob ein Programm oder Mensch ein Computer/System bedient. \n",
    "\n",
    "Die Fähigkeit Beziehungen in Daten zu erkennen ermöglicht zum Beispiel auch Bilder auszuwerten bzw. in Gruppen einzuteilen.\n",
    "\n",
    "Im Bereich der selbstfahrenden Autos werden Neuronale Netzte genutzt da sie relativ gut und schnell zwischen unterschiedlichen Objekten wie der Straße, Menschen, anderen Autos oder Schildern unterscheiden können."
   ]
  },
  {
   "cell_type": "markdown",
   "metadata": {},
   "source": [
    "## Aufgabe 23 Lineare Klassifikation mit Softmax"
   ]
  },
  {
   "cell_type": "markdown",
   "metadata": {},
   "source": [
    "### (a)-(c) Im Anhang"
   ]
  },
  {
   "cell_type": "markdown",
   "metadata": {},
   "source": [
    "### (d)"
   ]
  },
  {
   "cell_type": "code",
   "execution_count": 9,
   "metadata": {},
   "outputs": [],
   "source": [
    "import pandas as pd\n",
    "import numpy as np\n",
    "import matplotlib.pyplot as plt\n",
    "\n",
    "np.random.seed(1337)\n",
    "\n",
    "data0 = pd.read_hdf(\"populationen.hdf5\", key = \"P_0\")\n",
    "data1 = pd.read_hdf(\"populationen.hdf5\", key = \"P_1\")\n",
    "\n",
    "p0 = pd.DataFrame({\"x\":data0[\"x\"], \"y\":data0[\"y\"], \"label\":np.zeros(len(data0) , dtype = np.int8)})\n",
    "p1 = pd.DataFrame({\"x\":data1[\"x\"], \"y\":data1[\"y\"], \"label\":np.ones(len(data1) , dtype = np.int8)})\n",
    "\n",
    "p = pd.concat([p0,p1])"
   ]
  },
  {
   "cell_type": "code",
   "execution_count": 10,
   "metadata": {},
   "outputs": [
    {
     "data": {
      "text/html": [
       "<div>\n",
       "<style scoped>\n",
       "    .dataframe tbody tr th:only-of-type {\n",
       "        vertical-align: middle;\n",
       "    }\n",
       "\n",
       "    .dataframe tbody tr th {\n",
       "        vertical-align: top;\n",
       "    }\n",
       "\n",
       "    .dataframe thead th {\n",
       "        text-align: right;\n",
       "    }\n",
       "</style>\n",
       "<table border=\"1\" class=\"dataframe\">\n",
       "  <thead>\n",
       "    <tr style=\"text-align: right;\">\n",
       "      <th></th>\n",
       "      <th>x</th>\n",
       "      <th>y</th>\n",
       "      <th>label</th>\n",
       "    </tr>\n",
       "  </thead>\n",
       "  <tbody>\n",
       "    <tr>\n",
       "      <th>0</th>\n",
       "      <td>0.926612</td>\n",
       "      <td>4.717092</td>\n",
       "      <td>0</td>\n",
       "    </tr>\n",
       "    <tr>\n",
       "      <th>1</th>\n",
       "      <td>-3.953953</td>\n",
       "      <td>1.274478</td>\n",
       "      <td>0</td>\n",
       "    </tr>\n",
       "    <tr>\n",
       "      <th>2</th>\n",
       "      <td>-7.161693</td>\n",
       "      <td>-0.984415</td>\n",
       "      <td>0</td>\n",
       "    </tr>\n",
       "    <tr>\n",
       "      <th>3</th>\n",
       "      <td>-0.956840</td>\n",
       "      <td>1.115828</td>\n",
       "      <td>0</td>\n",
       "    </tr>\n",
       "    <tr>\n",
       "      <th>4</th>\n",
       "      <td>-0.046090</td>\n",
       "      <td>2.083444</td>\n",
       "      <td>0</td>\n",
       "    </tr>\n",
       "    <tr>\n",
       "      <th>...</th>\n",
       "      <td>...</td>\n",
       "      <td>...</td>\n",
       "      <td>...</td>\n",
       "    </tr>\n",
       "    <tr>\n",
       "      <th>9995</th>\n",
       "      <td>3.604288</td>\n",
       "      <td>2.839583</td>\n",
       "      <td>1</td>\n",
       "    </tr>\n",
       "    <tr>\n",
       "      <th>9996</th>\n",
       "      <td>0.855397</td>\n",
       "      <td>-0.963416</td>\n",
       "      <td>1</td>\n",
       "    </tr>\n",
       "    <tr>\n",
       "      <th>9997</th>\n",
       "      <td>7.416902</td>\n",
       "      <td>4.290466</td>\n",
       "      <td>1</td>\n",
       "    </tr>\n",
       "    <tr>\n",
       "      <th>9998</th>\n",
       "      <td>9.685447</td>\n",
       "      <td>7.290335</td>\n",
       "      <td>1</td>\n",
       "    </tr>\n",
       "    <tr>\n",
       "      <th>9999</th>\n",
       "      <td>9.195642</td>\n",
       "      <td>6.324578</td>\n",
       "      <td>1</td>\n",
       "    </tr>\n",
       "  </tbody>\n",
       "</table>\n",
       "<p>20000 rows × 3 columns</p>\n",
       "</div>"
      ],
      "text/plain": [
       "             x         y  label\n",
       "0     0.926612  4.717092      0\n",
       "1    -3.953953  1.274478      0\n",
       "2    -7.161693 -0.984415      0\n",
       "3    -0.956840  1.115828      0\n",
       "4    -0.046090  2.083444      0\n",
       "...        ...       ...    ...\n",
       "9995  3.604288  2.839583      1\n",
       "9996  0.855397 -0.963416      1\n",
       "9997  7.416902  4.290466      1\n",
       "9998  9.685447  7.290335      1\n",
       "9999  9.195642  6.324578      1\n",
       "\n",
       "[20000 rows x 3 columns]"
      ]
     },
     "execution_count": 10,
     "metadata": {},
     "output_type": "execute_result"
    }
   ],
   "source": [
    "p"
   ]
  },
  {
   "cell_type": "code",
   "execution_count": 14,
   "metadata": {},
   "outputs": [
    {
     "data": {
      "text/plain": [
       "array([[1., 1.],\n",
       "       [1., 1.]])"
      ]
     },
     "execution_count": 14,
     "metadata": {},
     "output_type": "execute_result"
    }
   ],
   "source": [
    "W = np.ones((2,2))\n",
    "b = np.ones(2)\n",
    "r = 0.5\n",
    "epoch = 100"
   ]
  },
  {
   "cell_type": "code",
   "execution_count": null,
   "metadata": {},
   "outputs": [],
   "source": [
    "#Softmax Funktion\n",
    "def p(i, W, b, x):\n",
    "    f = np.matmul(W,x) + b \n",
    "    p = np.exp(f[i])/np.sum(np.exp(f))\n",
    "    return 0"
   ]
  },
  {
   "cell_type": "code",
   "execution_count": 17,
   "metadata": {},
   "outputs": [],
   "source": [
    "# Indikatorfunktion\n",
    "def I(i, y):\n",
    "    if(i == y):\n",
    "        return 1\n",
    "    else:\n",
    "        return 0   "
   ]
  },
  {
   "cell_type": "code",
   "execution_count": null,
   "metadata": {},
   "outputs": [],
   "source": [
    "#Gradient\n",
    "def gradW(W, b, x , y):\n",
    "    gradf = np.array([p(0, W, b, x)- I(0,y), p(1, W, b, x) - I(1,y)])\n",
    "    return np.array([[gradf[0] * x[0], gradf[0]*x[1]], [ gradf[1] * x[0] , gradf[1]* x[1]]])\n",
    "\n",
    "def gradb(W, b, x, y):\n",
    "    return np.array([p(0, W, b, x)- I(0,y), p(1, W, b, x) - I(1,y)])\n",
    "    "
   ]
  },
  {
   "cell_type": "code",
   "execution_count": null,
   "metadata": {},
   "outputs": [],
   "source": [
    "for i in range(e)"
   ]
  }
 ],
 "metadata": {
  "kernelspec": {
   "display_name": "Python 3",
   "language": "python",
   "name": "python3"
  },
  "language_info": {
   "codemirror_mode": {
    "name": "ipython",
    "version": 3
   },
   "file_extension": ".py",
   "mimetype": "text/x-python",
   "name": "python",
   "nbconvert_exporter": "python",
   "pygments_lexer": "ipython3",
   "version": "3.8.3"
  }
 },
 "nbformat": 4,
 "nbformat_minor": 5
}
