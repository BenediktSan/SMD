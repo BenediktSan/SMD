{
 "cells": [
  {
   "cell_type": "markdown",
   "id": "8de7ab9b",
   "metadata": {},
   "source": [
    "# Blatt 11\n",
    "## Aufgabe 22 Deep Learning Kurzfragen"
   ]
  },
  {
   "cell_type": "markdown",
   "id": "27ecd5f3",
   "metadata": {},
   "source": [
    "### (a) Was beschreibt die Lossfunktion und wofür wird sie benötigt?"
   ]
  },
  {
   "cell_type": "markdown",
   "id": "e030976c",
   "metadata": {},
   "source": [
    "Die Lossfunktion beschreibt die Qualität einer Klassifikation, sie würd Gebächlich mittels der Kreuzentropie berechnet:  \n",
    "$ H(p,q) = - \\sum_k p(k) \\text{log}(q(k))$ \n",
    "Mit dem Gradienten der Lossfunktion kann eine Klassifizierung verbessert werden."
   ]
  },
  {
   "cell_type": "markdown",
   "id": "c3124363",
   "metadata": {},
   "source": [
    "% Bullshit:\n",
    "%Meistens mittels einer Softmax Funktion:  \n",
    "%$q_i(k) = \\frac{\\text{exp}(f_{k,i})}{\\sum_j \\text{exp}(f_{j,i})}$\n",
    "    "
   ]
  },
  {
   "cell_type": "markdown",
   "id": "42e621d8",
   "metadata": {},
   "source": [
    "### (b) Wie kann die Lossfunktion minimiert werden?"
   ]
  },
  {
   "cell_type": "markdown",
   "id": "558d8513",
   "metadata": {},
   "source": [
    "Mittels einer Analytischen oder Numerischen Gradientenberchnung kann bestimmt werden welche Attribute verbessert werden müssen um die Lossfunktion zu optimieren.\n",
    "Bei großen Datensätzen wird dies nur auf kleinen \"Batches\" der Daten vorgenommen."
   ]
  },
  {
   "cell_type": "markdown",
   "id": "1832ae03",
   "metadata": {},
   "source": [
    "### (c) Welche Funktionen haben die Aktiviertungsfunktionen bzw. welches Problem wird durch diese gelöst?  Nennen sie drei gängige Aktivierungsfunktionen."
   ]
  },
  {
   "cell_type": "markdown",
   "id": "e48e98c1",
   "metadata": {},
   "source": [
    "Aktivierungsfunktionen beschreiben die Übergänge zwischen unterschiedlichen Schichten bzw. Neuronen in Neuralen Netzwerken. Sie dient dazu die Inputs des Systems auszuwerten\n",
    "-maybe stagnierung um Mittelwerte vorbeugen, dass System ist empfindlicher für kleine änderungen \"Instabil\"\n",
    "-schneller zum ziel weil schlechte Werte schneller beseitigt werden können und gute Ergebnisse bessert wahrgenommen werden\n",
    "Lineare Aktivierungsfunktionen unterliegen einer starken Beschränkung, da eine Komposition linearer Funktionen durch arithmetische Umformungen durch eine einzige lineare Funktion dargestellt werden kann.\n",
    "\n",
    "Sigmoid\n",
    "Tangens Hyperbolicus\n",
    "Leaky ReLU(Rectified Linear Unit)\n"
   ]
  },
  {
   "cell_type": "markdown",
   "id": "85e3add3",
   "metadata": {},
   "source": [
    "### (d) Was ist ein Neuron?"
   ]
  },
  {
   "cell_type": "markdown",
   "id": "05621301",
   "metadata": {},
   "source": [
    "Die einzelnen Layer des Neuralen Netzwerks setzten sich aus den Neuronen zusammen an denen die Aktivierungsfunktionen zusammenlaufen. Die Ergebnisse werden summiert und ergeben eine Gewichtung für das nächste Layer der Aktivierungsfunktionen bzw. den Output. Da zwischen Jedem Neuron zwischen zwei Layern eine Aktivierungsfunktion liegt und diese durch einen Parameter beschrieben wird, ist die Anzahl der Neuronen auch ein Maß für die Anzahl der freien Parameter die in einem Neuralem Netzwerk berechnet/optimiert werden.\n"
   ]
  },
  {
   "cell_type": "markdown",
   "id": "64a52f08",
   "metadata": {},
   "source": [
    "### (e) Nennen Sie drei Anwendungsbeispiele für Neuronale Netze und beschreiben Sie kurz warum sie für diese Beispiele besonders geeignet sind."
   ]
  },
  {
   "cell_type": "markdown",
   "id": "173adbd3",
   "metadata": {},
   "source": []
  }
 ],
 "metadata": {
  "kernelspec": {
   "display_name": "Python 3",
   "language": "python",
   "name": "python3"
  },
  "language_info": {
   "codemirror_mode": {
    "name": "ipython",
    "version": 3
   },
   "file_extension": ".py",
   "mimetype": "text/x-python",
   "name": "python",
   "nbconvert_exporter": "python",
   "pygments_lexer": "ipython3",
   "version": "3.8.8"
  }
 },
 "nbformat": 4,
 "nbformat_minor": 5
}
