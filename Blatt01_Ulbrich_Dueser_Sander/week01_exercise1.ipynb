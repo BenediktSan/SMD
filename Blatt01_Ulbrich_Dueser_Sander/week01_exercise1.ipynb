{
 "cells": [
  {
   "cell_type": "code",
   "execution_count": 1,
   "metadata": {},
   "outputs": [],
   "source": [
    "import numpy as np\n",
    "import matplotlib.pyplot as plt\n",
    "import scipy as sci"
   ]
  },
  {
   "cell_type": "markdown",
   "metadata": {},
   "source": [
    "# Aufgabe 1"
   ]
  },
  {
   "cell_type": "markdown",
   "metadata": {},
   "source": [
    "Die zu untersuchenden Funktionen und Funktionen für die obere und untere Grenze des 1% Fehler-Intervalls der algebraischen Lösung $\\frac{2}{3}$:"
   ]
  },
  {
   "cell_type": "code",
   "execution_count": 2,
   "metadata": {},
   "outputs": [],
   "source": [
    "def f(x):\n",
    "    return (x**3+1/3)-(x**3-1/3)\n",
    "\n",
    "\n",
    "\n",
    "def g(x):\n",
    "    return ((3+x**3*1/3)-(3-x**3*1/3))/x**3\n",
    "\n",
    "\n",
    "\n",
    "def plus(x):\n",
    "    return np.ones(len(x)) * (2/3 + 2/(3*100)) +x*0\n",
    "\n",
    "\n",
    "\n",
    "def minus(x):\n",
    "    return np.ones(len(x)) * (2/3 - 2/(3*100)) +x*0\n",
    "\n"
   ]
  },
  {
   "cell_type": "markdown",
   "metadata": {},
   "source": [
    "## a) & b)"
   ]
  },
  {
   "cell_type": "markdown",
   "metadata": {},
   "source": [
    "Um zu bestimmen wann eine Abweichung von mehr als einem Prozent stattfindet wird mit folgenden Schleifen der erste Wert ausgegeben bei dem dies stattfindet. Dabei wird ignoriert, dass dies mehrfach passsiert und Intervalle existieren bei denen der Fehler wieder kleiner wird.\n",
    "\n",
    "Für f(x) wird dabei einfach für die Summationsindizes die Abweichung probiert. Für g(x) wird dabei mit dem Inversen der Indizes gearbeitet, da dort die größte Abweichung um 0 herum zu finden ist, da dort durch sehr kleine Zahlen geteilt wird, wodurch der Einfluss viel größer wird."
   ]
  },
  {
   "cell_type": "code",
   "execution_count": 3,
   "metadata": {},
   "outputs": [
    {
     "name": "stdout",
     "output_type": "stream",
     "text": [
      "Erste Abweichungen der Funktion f, angenähert von 0:  41286 \n",
      "\n",
      "Erste Abweichungen der Funktion g, angenähert von den positiven reelen Zahlen:  4.040240798351582e-05\n"
     ]
    }
   ],
   "source": [
    "for i in range(1,50000):\n",
    "    if f(i)>=2/3+1/150 or f(i)<=2/3-1/150:\n",
    "        print('Erste Abweichungen der Funktion f, angenähert von 0: ',i,\"\\n\")\n",
    "        break\n",
    "        \n",
    "        \n",
    "        \n",
    "for n in range(1,50000):\n",
    "    i = 1/n\n",
    "    if g(i)>=2/3+1/150 or g(i)<=2/3-1/150:\n",
    "        print('Erste Abweichungen der Funktion g, angenähert von den positiven reelen Zahlen: ',i)\n",
    "        break"
   ]
  },
  {
   "cell_type": "markdown",
   "metadata": {},
   "source": [
    "Ab x >= 41286 beginnt ein Intervall bei dem für f(x) die Abweichung größer ist als 1%. Aus Symmetrie gründen gilt das auch für x <= -41286. \n",
    "\n",
    "Für g(x) gilt dasselbe für x <= 4.040240798351582e-05 und x >= -4.040240798351582e-05.\n",
    "\n",
    "Diese Werte sind aber nur der Beginn eines Intervalls, da wie im Aufgabenteil c) noch mehr Intervalle existieren.\n",
    "\n",
    "\n",
    "Für Werte bei denen die Funktion 0 wird, wird äquivalent vorgegangen."
   ]
  },
  {
   "cell_type": "code",
   "execution_count": 4,
   "metadata": {},
   "outputs": [
    {
     "name": "stdout",
     "output_type": "stream",
     "text": [
      "Erste Nullstelle der Funktion f, angenähert von 0:  165141 \n",
      "\n",
      "Erste Nullstelle g, angenähert von den positiven reelen Zahlen:  8.733471904420884e-06\n"
     ]
    }
   ],
   "source": [
    "for i in range(1,200000):\n",
    "    if f(i)==0:\n",
    "        print('Erste Nullstelle der Funktion f, angenähert von 0: ',i,\"\\n\")\n",
    "        break\n",
    "        \n",
    "        \n",
    "        \n",
    "for n in range(1,200000):\n",
    "    i = 1/n\n",
    "    if g(i)==0:\n",
    "        print('Erste Nullstelle g, angenähert von den positiven reelen Zahlen: ',i)\n",
    "        break"
   ]
  },
  {
   "cell_type": "markdown",
   "metadata": {},
   "source": [
    "\n",
    "Für f(x) ergibt sich damit also ab $x = \\pm 165141$ Werte die Null sind und für g(x) bei $x = \\pm 8.733471904420884e-06$"
   ]
  },
  {
   "cell_type": "markdown",
   "metadata": {},
   "source": [
    "## d)"
   ]
  },
  {
   "cell_type": "markdown",
   "metadata": {},
   "source": [
    "Wenn man nun f(x), g(x) und die Funktionen für die oberen und unteren Grenzen plottet lässt sich gut erkennen wo die Werte das Fehlerintervall verlassen.\n"
   ]
  },
  {
   "cell_type": "markdown",
   "metadata": {},
   "source": [
    "#### Funktion f(x):"
   ]
  },
  {
   "cell_type": "code",
   "execution_count": 5,
   "metadata": {},
   "outputs": [
    {
     "data": {
      "image/png": "[encoded data removed]",
      "text/plain": [
       "<Figure size 432x288 with 1 Axes>"
      ]
     },
     "metadata": {
      "needs_background": "light"
     },
     "output_type": "display_data"
    }
   ],
   "source": [
    "t1 = np.logspace(4,5.5, 10000) #logspace zum plotten\n",
    "\n",
    "\n",
    "\n",
    "plt.figure(constrained_layout=True)\n",
    "plt.plot(t1,f(t1), label=\"f(x)\")\n",
    "plt.plot(t1,plus(t1))\n",
    "plt.plot(t1,minus(t1))\n",
    "plt.legend(loc= 'best')\n",
    "plt.xscale(\"log\")\n"
   ]
  },
  {
   "cell_type": "markdown",
   "metadata": {},
   "source": [
    "Man kann in dieser Grafik erkennen, dass für große x die Funktion null wird, da durch Rundungen die Addition der Konstanten irgendwann keinen Effekt mehr hat.\n",
    "Die Intervalle für die die Abweichung mehr als 1% entspricht kann man hier auch erkennen.\n"
   ]
  },
  {
   "cell_type": "markdown",
   "metadata": {},
   "source": [
    "#### Funktion g(x):"
   ]
  },
  {
   "cell_type": "code",
   "execution_count": null,
   "metadata": {},
   "outputs": [],
   "source": [
    "t2 = np.logspace(-6,-4, 10000) #logspace zum plotten\n",
    "\n",
    "\n",
    "\n",
    "plt.figure(constrained_layout=True)\n",
    "plt.plot(t2,g(t2), label=\"g(x)\")\n",
    "plt.plot(t2,plus(t2))\n",
    "plt.plot(t2,minus(t2))\n",
    "plt.legend(loc= 'best')\n",
    "plt.xscale(\"log\")\n"
   ]
  },
  {
   "cell_type": "markdown",
   "metadata": {},
   "source": [
    "Hier sieht man das für sehr kleine Werte von x die FUnktion den Wert 0 annimmt. Auch die Intervalle bei denen die Funktion größere Fehler hat sind zu erkennen.\n"
   ]
  },
  {
   "cell_type": "markdown",
   "metadata": {},
   "source": [
    "## d)"
   ]
  },
  {
   "cell_type": "markdown",
   "metadata": {},
   "source": [
    "#### Für die Funktion f(x):"
   ]
  },
  {
   "cell_type": "code",
   "execution_count": null,
   "metadata": {},
   "outputs": [],
   "source": [
    "x_32 = np.logspace(1,5.5, 10000, dtype = \"float32\")\n",
    "\n",
    "x_64 = np.logspace(4,5.5, 10000, dtype = \"float64\")\n",
    "\n",
    "\n",
    "plt.tight_layout()\n",
    "plt.subplot(1,2,1)\n",
    "plt.plot(x_32,f(x_32),label=\"f(x) mit 32bit\")\n",
    "plt.plot(x_32,plus(x_32))\n",
    "plt.plot(x_32,minus(x_32))\n",
    "plt.legend(loc= 'best')\n",
    "plt.xscale(\"log\")\n",
    "\n",
    "\n",
    "\n",
    "\n",
    "plt.subplot(1,2,2)\n",
    "plt.plot(x_64,f(x_64),label=\"f(x) mit 64bit\")\n",
    "plt.plot(x_64,plus(x_64))\n",
    "plt.plot(x_64,minus(x_64))\n",
    "plt.legend(loc= 'best')\n",
    "plt.xscale(\"log\")\n"
   ]
  },
  {
   "cell_type": "markdown",
   "metadata": {},
   "source": [
    "#### Für die Funktion g(x):"
   ]
  },
  {
   "cell_type": "code",
   "execution_count": null,
   "metadata": {},
   "outputs": [],
   "source": [
    "x_32 = np.logspace(-6,-1, 10000, dtype = \"float32\")\n",
    "\n",
    "x_64 = np.logspace(-6,-4, 10000, dtype = \"float64\")\n",
    "\n",
    "\n",
    "plt.tight_layout()\n",
    "plt.subplot(1,2,1)\n",
    "plt.plot(x_32,g(x_32),label=\"f(x) mit 32bit\")\n",
    "plt.plot(x_32,plus(x_32))\n",
    "plt.plot(x_32,minus(x_32))\n",
    "plt.legend(loc= 'best')\n",
    "plt.xscale(\"log\")\n",
    "\n",
    "\n",
    "\n",
    "\n",
    "plt.subplot(1,2,2)\n",
    "plt.plot(x_64,g(x_64),label=\"f(x) mit 64bit\")\n",
    "plt.plot(x_64,plus(x_64))\n",
    "plt.plot(x_64,minus(x_64))\n",
    "plt.legend(loc= 'best')\n",
    "plt.xscale(\"log\")\n"
   ]
  },
  {
   "cell_type": "markdown",
   "metadata": {},
   "source": [
    "Wie zu erwarten sieht man, dass die Funktionen die mit 32bit Zahlen geplottet werden, weiter entfernt von den Grenzwerten schon starke Abweichungen zeigen. Dies ist darauf zurückzuführen, dass dort die Zahlen, aufgrund der wenigen Stellen, ungenauer sind."
   ]
  }
 ],
 "metadata": {
  "kernelspec": {
   "display_name": "Python 3",
   "language": "python",
   "name": "python3"
  },
  "language_info": {
   "codemirror_mode": {
    "name": "ipython",
    "version": 3
   },
   "file_extension": ".py",
   "mimetype": "text/x-python",
   "name": "python",
   "nbconvert_exporter": "python",
   "pygments_lexer": "ipython3",
   "version": "3.8.3"
  }
 },
 "nbformat": 4,
 "nbformat_minor": 5
}
