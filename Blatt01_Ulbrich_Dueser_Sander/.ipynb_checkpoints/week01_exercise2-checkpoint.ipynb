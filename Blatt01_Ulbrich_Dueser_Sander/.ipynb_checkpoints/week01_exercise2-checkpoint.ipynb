{
 "cells": [
  {
   "cell_type": "code",
   "execution_count": 1,
   "metadata": {},
   "outputs": [],
   "source": [
    "import numpy as np\n",
    "import matplotlib.pyplot as plt"
   ]
  },
  {
   "cell_type": "markdown",
   "metadata": {},
   "source": [
    "# Aufgabe 2 : Numerische Stabilität und Kondition"
   ]
  },
  {
   "cell_type": "markdown",
   "metadata": {},
   "source": [
    "Gegeben ist \n",
    "$f(E,\\Theta) = \\frac{2 + \\text{sin}^2 \\Theta }{1 - \\beta^2 \\text{cos}^2 \\Theta}$\n",
    "als Ausdruck für den Wirkungsquerschnitt der Reaktion $\\text{e}^-\\text{e}^+ \\rightarrow \\gamma \\gamma$.\n",
    "Hier ist $\\beta = \\sqrt{1-\\gamma^{-2}}$ und $\\gamma = \\frac{E}{m}$."
   ]
  },
  {
   "cell_type": "markdown",
   "metadata": {},
   "source": [
    "## a)"
   ]
  },
  {
   "cell_type": "markdown",
   "metadata": {},
   "source": [
    "$f(E,\\Theta)$ wird für $\\beta^2 \\text{cos}^2 \\Theta \\rightarrow 1$ Numerisch instabil, da dann durch kleine Zahlen dividiert wird. Dies geschieht bei $\\Theta = n\\pi$ und $\\beta$ = 1 "
   ]
  },
  {
   "cell_type": "code",
   "execution_count": 2,
   "metadata": {},
   "outputs": [
    {
     "name": "stdout",
     "output_type": "stream",
     "text": [
      "0.9999897799477753\n"
     ]
    }
   ],
   "source": [
    "print(np.sqrt(1-(511e3/50e9*2)))"
   ]
  },
  {
   "cell_type": "markdown",
   "metadata": {},
   "source": [
    "Aufgrund der hohen Energie ist $\\beta \\approx 1$."
   ]
  },
  {
   "cell_type": "markdown",
   "metadata": {},
   "source": [
    "## b)"
   ]
  },
  {
   "cell_type": "markdown",
   "metadata": {},
   "source": [
    "Das Stabilitätsproblem kann durch folgende Umformungen behoben werden: $\\newline$\n",
    "$f(E,\\Theta) = \\frac{2 + \\text{sin}^2 \\Theta }{1 - \\beta^2 \\text{cos}^2 \\Theta}$ $\\newline$\n",
    "            $= \\frac{2 + \\text{sin}^2 \\Theta }{\\text{cos}^2\\Theta+\\text{sin}^2\\Theta - \\beta^2\\text{cos}^2\\Theta}$ $\\newline$\n",
    "            $= \\frac{2 + \\text{sin}^2 \\Theta }{(1- \\beta^2)\\text{cos}^2\\Theta + \\text{sin}^2\\Theta }$ $\\newline$\n",
    "            $= \\frac{2 + \\text{sin}^2 \\Theta }{\\gamma^{-2} \\text{cos}^2 + \\text{sin}^2\\Theta}$"
   ]
  },
  {
   "cell_type": "markdown",
   "metadata": {},
   "source": [
    "## c)"
   ]
  },
  {
   "cell_type": "markdown",
   "metadata": {},
   "source": [
    "Wie in a) bereits festgestellt ist für $E = 50GeV, \\beta \\approx 1$, somit liegen die kritischen Intervalle um $\\Theta = n\\pi$ herum."
   ]
  },
  {
   "cell_type": "code",
   "execution_count": 3,
   "metadata": {},
   "outputs": [],
   "source": [
    "E = 50e9\n",
    "g = E/511e3\n",
    "\n",
    "beta =np.sqrt(1 - g**-2)"
   ]
  },
  {
   "cell_type": "code",
   "execution_count": 4,
   "metadata": {},
   "outputs": [],
   "source": [
    "def f_auf(theta):\n",
    "    return (2 + np.sin(theta) **2) / (1 - beta**2 * np.cos(theta)**2)\n",
    "\n",
    "def f_um(theta):\n",
    "    return (2+ np.sin(theta)**2 ) / (g**-2 * np.cos(theta)**2 + np.sin(theta)**2)\n",
    "    "
   ]
  },
  {
   "cell_type": "markdown",
   "metadata": {},
   "source": [
    "Wir schauen uns jetzt im folgenden den Wertebereich für n = 0 an:"
   ]
  },
  {
   "cell_type": "code",
   "execution_count": 5,
   "metadata": {},
   "outputs": [
    {
     "data": {
      "text/plain": [
       "<matplotlib.legend.Legend at 0x7ffa03352f10>"
      ]
     },
     "execution_count": 5,
     "metadata": {},
     "output_type": "execute_result"
    },
    {
     "data": {
      "image/png": "[encoded data removed]",
      "text/plain": [
       "<Figure size 432x288 with 1 Axes>"
      ]
     },
     "metadata": {
      "needs_background": "light"
     },
     "output_type": "display_data"
    }
   ],
   "source": [
    "x = np.linspace(-10**-7, 10**-7 , 1000)\n",
    "\n",
    "plt.plot(x, f_auf(x) , label= \"instabile Funktion\")\n",
    "plt.plot(x, f_um(x)  , label= \"stabile Funktion\")\n",
    "\n",
    "plt.xlabel(\"$\\Theta$\")\n",
    "plt.ylabel(\"$f(E, \\Theta)$\")\n",
    "plt.xlim(-0.75e-7,0.75e-7)\n",
    "plt.legend()"
   ]
  },
  {
   "cell_type": "markdown",
   "metadata": {},
   "source": [
    "## d)"
   ]
  },
  {
   "cell_type": "markdown",
   "metadata": {},
   "source": [
    "Die Konditionszahl berechnet dich über folgende Formel:$\\newline$\n",
    "$K = \\vert x \\frac{f'(x)}{f(x)}\\vert\\newline$\n",
    "somit ergibt sich für unsere Aufgabe mit x = $\\Theta$: $\\newline$\n",
    "$K = \\vert \\Theta \\frac{(3 \\beta^2 -1)\\text{sin}2\\Theta }{(2+\\text{sin}^2 \\Theta)(1 - \\beta^2 \\text{cos}^2 \\Theta)} \\vert$"
   ]
  },
  {
   "cell_type": "markdown",
   "metadata": {},
   "source": [
    "## e) "
   ]
  },
  {
   "cell_type": "markdown",
   "metadata": {},
   "source": [
    "Insgesamt lässt sich aus der Konditionszahl folgendes ablesen: $\\newline$\n",
    "$-K > 1 \\rightarrow$ es gibt eine Fehlerdämpfung $\\newline$\n",
    "$-K < 1 \\rightarrow$ es gibt eine Fehlerverstärkung $\\newline$\n",
    "$-K \\gg 1 \\rightarrow$ Das Problem ist schlecht konditioniert\n"
   ]
  },
  {
   "cell_type": "code",
   "execution_count": 6,
   "metadata": {},
   "outputs": [],
   "source": [
    "def K(theta):\n",
    "    top = (3 * beta**2 -1) * np.sin(2*theta)\n",
    "    bot = (2 + np.sin(theta)**2) * (1 - beta**2 * np.cos(theta)**2)\n",
    "    return np.abs(theta * top/bot)"
   ]
  },
  {
   "cell_type": "code",
   "execution_count": 7,
   "metadata": {},
   "outputs": [
    {
     "data": {
      "text/plain": [
       "<matplotlib.legend.Legend at 0x7ffa029b4fa0>"
      ]
     },
     "execution_count": 7,
     "metadata": {},
     "output_type": "execute_result"
    },
    {
     "data": {
      "image/png": "[encoded data removed]",
      "text/plain": [
       "<Figure size 432x288 with 1 Axes>"
      ]
     },
     "metadata": {
      "needs_background": "light"
     },
     "output_type": "display_data"
    }
   ],
   "source": [
    "x2 = np.linspace(0, np.pi, 10000)\n",
    "\n",
    "plt.figure()\n",
    "\n",
    "plt.plot(x2, K(x2), label=\"Konditionszahl\")\n",
    "\n",
    "plt.axhline(1, c=\"k\", ls=\"--\", label=\"$K=1$\")\n",
    "\n",
    "plt.xticks( np.arange(0, 1.1*np.pi, np.pi / 4), [r'$0$', r'$\\frac{\\pi}{4}$',\n",
    "r'$\\frac{\\pi}{2}$', r'$\\frac{3\\pi}{2}$', r'$\\pi$', ])\n",
    "\n",
    "plt.yscale(\"log\")\n",
    "plt.xlabel(\"$\\Theta$\")\n",
    "plt.ylabel(\"$K(\\Theta)$\")\n",
    "plt.legend()\n"
   ]
  },
  {
   "cell_type": "markdown",
   "metadata": {},
   "source": [
    "Die Konditionszahl erreicht bei $=\\Theta\\frac{n\\pi}{2}$ ihr Minimum, dort werden entweder die Sinus- oder die Kosinusfunktionen null und somit auch die Konditionszahl selber. In diesen Bereichen liegt somit eine gute Konditionierung vor."
   ]
  },
  {
   "cell_type": "markdown",
   "metadata": {},
   "source": [
    "## f) "
   ]
  },
  {
   "cell_type": "markdown",
   "metadata": {},
   "source": [
    "Die Numerische Stabilität beschreibt die Anfälligkeit von Algorithmen für Rundungsfehler die durch die endliche Genauigkeit von Maschinen entstehen.\n",
    "Die Kondition beschreibt die Fortpflanzung der Eingabefehler."
   ]
  }
 ],
 "metadata": {
  "kernelspec": {
   "display_name": "Python 3",
   "language": "python",
   "name": "python3"
  },
  "language_info": {
   "codemirror_mode": {
    "name": "ipython",
    "version": 3
   },
   "file_extension": ".py",
   "mimetype": "text/x-python",
   "name": "python",
   "nbconvert_exporter": "python",
   "pygments_lexer": "ipython3",
   "version": "3.8.3"
  }
 },
 "nbformat": 4,
 "nbformat_minor": 4
}
