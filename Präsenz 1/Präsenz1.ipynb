{
 "cells": [
  {
   "cell_type": "code",
   "execution_count": null,
   "id": "baa63333",
   "metadata": {},
   "outputs": [],
   "source": [
    "import numpy as np\n",
    "import matplotlib.pyplot as plt\n",
    "import os\n",
    "\n",
    "%matplotlib notebook\n",
    "\n",
    "groeße, gewicht = np.genfromtxt('Groesse_Gewicht.txt', unpack=True)\n",
    "\n",
    "#constrained_layout=True\n",
    "fig, ((ax11,ax12),(ax21,ax22),(ax31, ax32))=plt.subplots(3,2,sharex=True, sharey=True)\n",
    "fig.tight_layout()\n",
    "#ax11.set(xticks=range(3), xlim=[1.5, 2])\n",
    "plt.xticks(np.arange(1, 2, step=0.05))\n",
    "#plt.setp(ax11.get_xticklabels(),visible=True)\n",
    "ax11.xaxis.set_tick_params(which='both', labelbottom=True)\n",
    "\n",
    "\n",
    "plot1=ax11.hist(gewicht,bins=5)\n",
    "plot2=ax12.hist(gewicht,bins=10,histtype='step')\n",
    "plot3=ax21.hist(gewicht,bins=15)\n",
    "plot4=ax22.hist(gewicht,bins=20)\n",
    "plot5=ax31.hist(gewicht,bins=30)\n",
    "plot6=ax32.hist(gewicht,bins=50)\n",
    "plt.show()"
   ]
  },
  {
   "cell_type": "code",
   "execution_count": null,
   "id": "07009de2",
   "metadata": {},
   "outputs": [],
   "source": []
  },
  {
   "cell_type": "code",
   "execution_count": null,
   "id": "7f461545",
   "metadata": {},
   "outputs": [],
   "source": []
  }
 ],
 "metadata": {
  "kernelspec": {
   "display_name": "Python 3",
   "language": "python",
   "name": "python3"
  },
  "language_info": {
   "codemirror_mode": {
    "name": "ipython",
    "version": 3
   },
   "file_extension": ".py",
   "mimetype": "text/x-python",
   "name": "python",
   "nbconvert_exporter": "python",
   "pygments_lexer": "ipython3",
   "version": "3.8.8"
  }
 },
 "nbformat": 4,
 "nbformat_minor": 5
}
